{
 "cells": [
  {
   "cell_type": "markdown",
   "id": "a4e6d06c",
   "metadata": {},
   "source": [
    "1. Handle the exception thrown by the code below by using try and except blocks.\n",
    "for i in ['a','b','c']:\n",
    "  print(i**2"
   ]
  },
  {
   "cell_type": "code",
   "execution_count": 2,
   "id": "b7647cb6",
   "metadata": {},
   "outputs": [
    {
     "name": "stdout",
     "output_type": "stream",
     "text": [
      "a is not a number and cannot be squared\n",
      "b is not a number and cannot be squared\n",
      "c is not a number and cannot be squared\n"
     ]
    }
   ],
   "source": [
    "for i in ['a', 'b', 'c']:\n",
    "    try:\n",
    "        print(i**2)\n",
    "    except TypeError:\n",
    "        print(f\"{i} is not a number and cannot be squared\")"
   ]
  },
  {
   "cell_type": "markdown",
   "id": "121dea41",
   "metadata": {},
   "source": [
    "2. Write a function that asks for an integer and prints the square of it. Use a while loop with a try,\n",
    "except, else block to account for incorrect inputs.\n",
    "This should be the output of your function:\n",
    "Input an integer: “hello”\n",
    "Unrecognized number! Please try again!\n",
    "Input an integer: 2\n",
    "You entered 2, your number squared is: 4\n"
   ]
  },
  {
   "cell_type": "code",
   "execution_count": 3,
   "id": "2186fd88",
   "metadata": {},
   "outputs": [
    {
     "name": "stdout",
     "output_type": "stream",
     "text": [
      "Input an integer: 3\n",
      "You entered 3, your number squared is: 9\n"
     ]
    }
   ],
   "source": [
    "def print_square():\n",
    "    while True:\n",
    "        try:\n",
    "            num = int(input(\"Input an integer: \"))\n",
    "        except ValueError:\n",
    "            print(\"Unrecognized number! Please try again!\")\n",
    "        else:\n",
    "            print(f\"You entered {num}, your number squared is: {num**2}\")\n",
    "            break\n",
    "\n",
    "print_square()\n"
   ]
  },
  {
   "cell_type": "markdown",
   "id": "fcc0fd61",
   "metadata": {},
   "source": [
    "3. Complete the Line class given below. Your class should accept two sets of coordinate points as\n",
    "tuples. Write two methods within the class, one to compute distance between two points, and\n",
    "another to compute the slope.\n",
    "You have to complete the code given below:\n",
    "class Line:\n",
    " def __init__(self,coordinateA,coordinateB):\n",
    " pass\n",
    " def distance(self):\n",
    " pass\n",
    " def slope(self):\n",
    " pass\n",
    "Example output:\n",
    "c1 = (3, 2)\n",
    "c2 = (8, 10)\n",
    "myline = Line(c1, c2)\n"
   ]
  },
  {
   "cell_type": "code",
   "execution_count": 4,
   "id": "c069712e",
   "metadata": {},
   "outputs": [
    {
     "name": "stdout",
     "output_type": "stream",
     "text": [
      "Distance between two points: 9.433981132056603\n",
      "Slope of the line: 1.6\n"
     ]
    }
   ],
   "source": [
    "class Line:\n",
    "    def __init__(self, coordinateA, coordinateB):\n",
    "        self.coordinateA = coordinateA\n",
    "        self.coordinateB = coordinateB\n",
    "    \n",
    "    def distance(self):\n",
    "        x1, y1 = self.coordinateA\n",
    "        x2, y2 = self.coordinateB\n",
    "        return ((x2 - x1)**2 + (y2 - y1)**2)**0.5\n",
    "    \n",
    "    def slope(self):\n",
    "        x1, y1 = self.coordinateA\n",
    "        x2, y2 = self.coordinateB\n",
    "        return (y2 - y1) / (x2 - x1)\n",
    "\n",
    "c1 = (3, 2)\n",
    "c2 = (8, 10)\n",
    "myline = Line(c1, c2)\n",
    "\n",
    "print(\"Distance between two points:\", myline.distance())\n",
    "print(\"Slope of the line:\", myline.slope())\n"
   ]
  },
  {
   "cell_type": "markdown",
   "id": "f65ddd28",
   "metadata": {},
   "source": [
    "4. Complete the class given below:\n",
    "class Cylinder:\n",
    " \n",
    " def __init__(self,height=1,radius=1):\n",
    " pass\n",
    " \n",
    " def volume(self):\n",
    " pass\n",
    " \n",
    " def surface_area(self):\n",
    " pass\n"
   ]
  },
  {
   "cell_type": "code",
   "execution_count": 5,
   "id": "788b2dfd",
   "metadata": {},
   "outputs": [
    {
     "name": "stdout",
     "output_type": "stream",
     "text": [
      "Volume of the cylinder: 141.3\n",
      "Surface area of the cylinder: 150.72\n"
     ]
    }
   ],
   "source": [
    "class Cylinder:\n",
    "    def __init__(self, height=1, radius=1):\n",
    "        self.height = height\n",
    "        self.radius = radius\n",
    "    \n",
    "    def volume(self):\n",
    "        return 3.14 * (self.radius**2) * self.height\n",
    "    \n",
    "    def surface_area(self):\n",
    "        return 2 * 3.14 * self.radius * (self.radius + self.height)\n",
    "\n",
    "mycylinder = Cylinder(height=5, radius=3)\n",
    "print(\"Volume of the cylinder:\", mycylinder.volume())\n",
    "print(\"Surface area of the cylinder:\", mycylinder.surface_area())\n"
   ]
  },
  {
   "cell_type": "markdown",
   "id": "ccd11427",
   "metadata": {},
   "source": [
    "5. Define a class InputOutString which has at least two methods: getString: to get a string from\n",
    "console input, printString: to print the string in upper case. Also please include simple test function\n",
    "to test the class methods.\n"
   ]
  },
  {
   "cell_type": "code",
   "execution_count": 6,
   "id": "b3103ee0",
   "metadata": {},
   "outputs": [
    {
     "name": "stdout",
     "output_type": "stream",
     "text": [
      "Enter a string: dd\n",
      "DD\n"
     ]
    }
   ],
   "source": [
    "class InputOutString:\n",
    "    def __init__(self):\n",
    "        self.string = \"\"\n",
    "    \n",
    "    def getString(self):\n",
    "        self.string = input(\"Enter a string: \")\n",
    "    \n",
    "    def printString(self):\n",
    "        print(self.string.upper())\n",
    "\n",
    "def test_InputOutString():\n",
    "    ios = InputOutString()\n",
    "    ios.getString()\n",
    "    ios.printString()\n",
    "\n",
    "test_InputOutString()"
   ]
  },
  {
   "cell_type": "markdown",
   "id": "967730bf",
   "metadata": {},
   "source": [
    "6. Write a python program to copy the contents of one file to another. Your new file should be\n",
    "named as old file name followed by a 1. For example: if your original file is named: myfile.txt, your\n",
    "new file should be named: myfile1.txt"
   ]
  },
  {
   "cell_type": "code",
   "execution_count": null,
   "id": "8dfe1b86",
   "metadata": {},
   "outputs": [],
   "source": [
    "import os\n",
    "filename = input(\"Enter the name of the file to copy: \")\n",
    "with open(filename, 'r') as original_file:\n",
    "    file_extension = os.path.splitext(filename)[1]\n",
    "    new_filename = filename.replace(file_extension, '1' + file_extension)\n",
    "    \n",
    "    with open(new_filename, 'w') as new_file:\n",
    "        \n",
    "        contents = original_file.read()\n",
    "        new_file.write(contents)\n",
    "    \n",
    "print(\"Contents of\", filename, \"successfully copied to\", new_filename)"
   ]
  },
  {
   "cell_type": "markdown",
   "id": "9503e46c",
   "metadata": {},
   "source": [
    "7. Write a lambda function that takes in two numbers, and returns the sum of the squares of the\n",
    "input numbers.\n",
    "Example: If your input is 2, 3, your output should be : 22\n",
    " + 32 i.e. 13"
   ]
  },
  {
   "cell_type": "code",
   "execution_count": 8,
   "id": "371ea860",
   "metadata": {
    "scrolled": true
   },
   "outputs": [
    {
     "name": "stdout",
     "output_type": "stream",
     "text": [
      "Enter first number: 2\n",
      "Enter second number: 3\n",
      "The sum of squares of 2 and 3 is: 13\n"
     ]
    }
   ],
   "source": [
    "sum_of_squares = lambda x, y: x**2 + y**2\n",
    "sum_of_squares = lambda x, y: x**2 + y**2\n",
    "\n",
    "num1 = int(input(\"Enter first number: \"))\n",
    "num2 = int(input(\"Enter second number: \"))\n",
    "\n",
    "result = sum_of_squares(num1, num2)\n",
    "\n",
    "print(\"The sum of squares of\", num1, \"and\", num2, \"is:\", result)\n",
    " "
   ]
  },
  {
   "cell_type": "code",
   "execution_count": null,
   "id": "bcf136aa",
   "metadata": {},
   "outputs": [],
   "source": []
  }
 ],
 "metadata": {
  "kernelspec": {
   "display_name": "Python 3 (ipykernel)",
   "language": "python",
   "name": "python3"
  },
  "language_info": {
   "codemirror_mode": {
    "name": "ipython",
    "version": 3
   },
   "file_extension": ".py",
   "mimetype": "text/x-python",
   "name": "python",
   "nbconvert_exporter": "python",
   "pygments_lexer": "ipython3",
   "version": "3.10.10"
  }
 },
 "nbformat": 4,
 "nbformat_minor": 5
}
